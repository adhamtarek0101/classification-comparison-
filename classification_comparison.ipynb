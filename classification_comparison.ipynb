{
  "cells": [
    {
      "cell_type": "code",
      "execution_count": 1,
      "id": "cd12ee1e",
      "metadata": {
        "_cell_guid": "b1076dfc-b9ad-4769-8c92-a6c4dae69d19",
        "_uuid": "8f2839f25d086af736a60e9eeb907d3b93b6e0e5",
        "execution": {
          "iopub.execute_input": "2024-08-06T01:07:23.955645Z",
          "iopub.status.busy": "2024-08-06T01:07:23.955347Z",
          "iopub.status.idle": "2024-08-06T01:07:24.846680Z",
          "shell.execute_reply": "2024-08-06T01:07:24.845459Z"
        },
        "papermill": {
          "duration": 0.905785,
          "end_time": "2024-08-06T01:07:24.848762",
          "exception": false,
          "start_time": "2024-08-06T01:07:23.942977",
          "status": "completed"
        },
        "tags": [],
        "id": "cd12ee1e"
      },
      "outputs": [],
      "source": [
        "\n",
        "import numpy as np\n",
        "import pandas as pd\n"
      ]
    },
    {
      "cell_type": "code",
      "execution_count": 2,
      "id": "40914ded",
      "metadata": {
        "execution": {
          "iopub.execute_input": "2024-08-06T01:07:24.873257Z",
          "iopub.status.busy": "2024-08-06T01:07:24.872416Z",
          "iopub.status.idle": "2024-08-06T01:07:24.904646Z",
          "shell.execute_reply": "2024-08-06T01:07:24.903687Z"
        },
        "papermill": {
          "duration": 0.046665,
          "end_time": "2024-08-06T01:07:24.907010",
          "exception": false,
          "start_time": "2024-08-06T01:07:24.860345",
          "status": "completed"
        },
        "tags": [],
        "colab": {
          "base_uri": "https://localhost:8080/",
          "height": 353
        },
        "id": "40914ded",
        "outputId": "e83cd5c0-fb85-4100-d17f-014b67b122d2"
      },
      "outputs": [
        {
          "output_type": "error",
          "ename": "FileNotFoundError",
          "evalue": "[Errno 2] No such file or directory: '/kaggle/input/titanic/train.csv'",
          "traceback": [
            "\u001b[0;31m---------------------------------------------------------------------------\u001b[0m",
            "\u001b[0;31mFileNotFoundError\u001b[0m                         Traceback (most recent call last)",
            "\u001b[0;32m<ipython-input-2-2631089b89c5>\u001b[0m in \u001b[0;36m<cell line: 2>\u001b[0;34m()\u001b[0m\n\u001b[1;32m      1\u001b[0m \u001b[0;31m#reading the data from csv files\u001b[0m\u001b[0;34m\u001b[0m\u001b[0;34m\u001b[0m\u001b[0m\n\u001b[0;32m----> 2\u001b[0;31m \u001b[0mdf\u001b[0m \u001b[0;34m=\u001b[0m \u001b[0mpd\u001b[0m\u001b[0;34m.\u001b[0m\u001b[0mread_csv\u001b[0m\u001b[0;34m(\u001b[0m\u001b[0;34m'/kaggle/input/titanic/train.csv'\u001b[0m\u001b[0;34m)\u001b[0m\u001b[0;34m\u001b[0m\u001b[0;34m\u001b[0m\u001b[0m\n\u001b[0m\u001b[1;32m      3\u001b[0m \u001b[0mdf_test\u001b[0m \u001b[0;34m=\u001b[0m \u001b[0mpd\u001b[0m\u001b[0;34m.\u001b[0m\u001b[0mread_csv\u001b[0m\u001b[0;34m(\u001b[0m\u001b[0;34m'/kaggle/input/titanic/test.csv'\u001b[0m\u001b[0;34m)\u001b[0m\u001b[0;34m\u001b[0m\u001b[0;34m\u001b[0m\u001b[0m\n\u001b[1;32m      4\u001b[0m \u001b[0mdf_target\u001b[0m \u001b[0;34m=\u001b[0m \u001b[0mpd\u001b[0m\u001b[0;34m.\u001b[0m\u001b[0mread_csv\u001b[0m\u001b[0;34m(\u001b[0m\u001b[0;34m'/kaggle/input/titanic/gender_submission.csv'\u001b[0m\u001b[0;34m)\u001b[0m\u001b[0;34m\u001b[0m\u001b[0;34m\u001b[0m\u001b[0m\n",
            "\u001b[0;32m/usr/local/lib/python3.10/dist-packages/pandas/io/parsers/readers.py\u001b[0m in \u001b[0;36mread_csv\u001b[0;34m(filepath_or_buffer, sep, delimiter, header, names, index_col, usecols, dtype, engine, converters, true_values, false_values, skipinitialspace, skiprows, skipfooter, nrows, na_values, keep_default_na, na_filter, verbose, skip_blank_lines, parse_dates, infer_datetime_format, keep_date_col, date_parser, date_format, dayfirst, cache_dates, iterator, chunksize, compression, thousands, decimal, lineterminator, quotechar, quoting, doublequote, escapechar, comment, encoding, encoding_errors, dialect, on_bad_lines, delim_whitespace, low_memory, memory_map, float_precision, storage_options, dtype_backend)\u001b[0m\n\u001b[1;32m    946\u001b[0m     \u001b[0mkwds\u001b[0m\u001b[0;34m.\u001b[0m\u001b[0mupdate\u001b[0m\u001b[0;34m(\u001b[0m\u001b[0mkwds_defaults\u001b[0m\u001b[0;34m)\u001b[0m\u001b[0;34m\u001b[0m\u001b[0;34m\u001b[0m\u001b[0m\n\u001b[1;32m    947\u001b[0m \u001b[0;34m\u001b[0m\u001b[0m\n\u001b[0;32m--> 948\u001b[0;31m     \u001b[0;32mreturn\u001b[0m \u001b[0m_read\u001b[0m\u001b[0;34m(\u001b[0m\u001b[0mfilepath_or_buffer\u001b[0m\u001b[0;34m,\u001b[0m \u001b[0mkwds\u001b[0m\u001b[0;34m)\u001b[0m\u001b[0;34m\u001b[0m\u001b[0;34m\u001b[0m\u001b[0m\n\u001b[0m\u001b[1;32m    949\u001b[0m \u001b[0;34m\u001b[0m\u001b[0m\n\u001b[1;32m    950\u001b[0m \u001b[0;34m\u001b[0m\u001b[0m\n",
            "\u001b[0;32m/usr/local/lib/python3.10/dist-packages/pandas/io/parsers/readers.py\u001b[0m in \u001b[0;36m_read\u001b[0;34m(filepath_or_buffer, kwds)\u001b[0m\n\u001b[1;32m    609\u001b[0m \u001b[0;34m\u001b[0m\u001b[0m\n\u001b[1;32m    610\u001b[0m     \u001b[0;31m# Create the parser.\u001b[0m\u001b[0;34m\u001b[0m\u001b[0;34m\u001b[0m\u001b[0m\n\u001b[0;32m--> 611\u001b[0;31m     \u001b[0mparser\u001b[0m \u001b[0;34m=\u001b[0m \u001b[0mTextFileReader\u001b[0m\u001b[0;34m(\u001b[0m\u001b[0mfilepath_or_buffer\u001b[0m\u001b[0;34m,\u001b[0m \u001b[0;34m**\u001b[0m\u001b[0mkwds\u001b[0m\u001b[0;34m)\u001b[0m\u001b[0;34m\u001b[0m\u001b[0;34m\u001b[0m\u001b[0m\n\u001b[0m\u001b[1;32m    612\u001b[0m \u001b[0;34m\u001b[0m\u001b[0m\n\u001b[1;32m    613\u001b[0m     \u001b[0;32mif\u001b[0m \u001b[0mchunksize\u001b[0m \u001b[0;32mor\u001b[0m \u001b[0miterator\u001b[0m\u001b[0;34m:\u001b[0m\u001b[0;34m\u001b[0m\u001b[0;34m\u001b[0m\u001b[0m\n",
            "\u001b[0;32m/usr/local/lib/python3.10/dist-packages/pandas/io/parsers/readers.py\u001b[0m in \u001b[0;36m__init__\u001b[0;34m(self, f, engine, **kwds)\u001b[0m\n\u001b[1;32m   1446\u001b[0m \u001b[0;34m\u001b[0m\u001b[0m\n\u001b[1;32m   1447\u001b[0m         \u001b[0mself\u001b[0m\u001b[0;34m.\u001b[0m\u001b[0mhandles\u001b[0m\u001b[0;34m:\u001b[0m \u001b[0mIOHandles\u001b[0m \u001b[0;34m|\u001b[0m \u001b[0;32mNone\u001b[0m \u001b[0;34m=\u001b[0m \u001b[0;32mNone\u001b[0m\u001b[0;34m\u001b[0m\u001b[0;34m\u001b[0m\u001b[0m\n\u001b[0;32m-> 1448\u001b[0;31m         \u001b[0mself\u001b[0m\u001b[0;34m.\u001b[0m\u001b[0m_engine\u001b[0m \u001b[0;34m=\u001b[0m \u001b[0mself\u001b[0m\u001b[0;34m.\u001b[0m\u001b[0m_make_engine\u001b[0m\u001b[0;34m(\u001b[0m\u001b[0mf\u001b[0m\u001b[0;34m,\u001b[0m \u001b[0mself\u001b[0m\u001b[0;34m.\u001b[0m\u001b[0mengine\u001b[0m\u001b[0;34m)\u001b[0m\u001b[0;34m\u001b[0m\u001b[0;34m\u001b[0m\u001b[0m\n\u001b[0m\u001b[1;32m   1449\u001b[0m \u001b[0;34m\u001b[0m\u001b[0m\n\u001b[1;32m   1450\u001b[0m     \u001b[0;32mdef\u001b[0m \u001b[0mclose\u001b[0m\u001b[0;34m(\u001b[0m\u001b[0mself\u001b[0m\u001b[0;34m)\u001b[0m \u001b[0;34m->\u001b[0m \u001b[0;32mNone\u001b[0m\u001b[0;34m:\u001b[0m\u001b[0;34m\u001b[0m\u001b[0;34m\u001b[0m\u001b[0m\n",
            "\u001b[0;32m/usr/local/lib/python3.10/dist-packages/pandas/io/parsers/readers.py\u001b[0m in \u001b[0;36m_make_engine\u001b[0;34m(self, f, engine)\u001b[0m\n\u001b[1;32m   1703\u001b[0m                 \u001b[0;32mif\u001b[0m \u001b[0;34m\"b\"\u001b[0m \u001b[0;32mnot\u001b[0m \u001b[0;32min\u001b[0m \u001b[0mmode\u001b[0m\u001b[0;34m:\u001b[0m\u001b[0;34m\u001b[0m\u001b[0;34m\u001b[0m\u001b[0m\n\u001b[1;32m   1704\u001b[0m                     \u001b[0mmode\u001b[0m \u001b[0;34m+=\u001b[0m \u001b[0;34m\"b\"\u001b[0m\u001b[0;34m\u001b[0m\u001b[0;34m\u001b[0m\u001b[0m\n\u001b[0;32m-> 1705\u001b[0;31m             self.handles = get_handle(\n\u001b[0m\u001b[1;32m   1706\u001b[0m                 \u001b[0mf\u001b[0m\u001b[0;34m,\u001b[0m\u001b[0;34m\u001b[0m\u001b[0;34m\u001b[0m\u001b[0m\n\u001b[1;32m   1707\u001b[0m                 \u001b[0mmode\u001b[0m\u001b[0;34m,\u001b[0m\u001b[0;34m\u001b[0m\u001b[0;34m\u001b[0m\u001b[0m\n",
            "\u001b[0;32m/usr/local/lib/python3.10/dist-packages/pandas/io/common.py\u001b[0m in \u001b[0;36mget_handle\u001b[0;34m(path_or_buf, mode, encoding, compression, memory_map, is_text, errors, storage_options)\u001b[0m\n\u001b[1;32m    861\u001b[0m         \u001b[0;32mif\u001b[0m \u001b[0mioargs\u001b[0m\u001b[0;34m.\u001b[0m\u001b[0mencoding\u001b[0m \u001b[0;32mand\u001b[0m \u001b[0;34m\"b\"\u001b[0m \u001b[0;32mnot\u001b[0m \u001b[0;32min\u001b[0m \u001b[0mioargs\u001b[0m\u001b[0;34m.\u001b[0m\u001b[0mmode\u001b[0m\u001b[0;34m:\u001b[0m\u001b[0;34m\u001b[0m\u001b[0;34m\u001b[0m\u001b[0m\n\u001b[1;32m    862\u001b[0m             \u001b[0;31m# Encoding\u001b[0m\u001b[0;34m\u001b[0m\u001b[0;34m\u001b[0m\u001b[0m\n\u001b[0;32m--> 863\u001b[0;31m             handle = open(\n\u001b[0m\u001b[1;32m    864\u001b[0m                 \u001b[0mhandle\u001b[0m\u001b[0;34m,\u001b[0m\u001b[0;34m\u001b[0m\u001b[0;34m\u001b[0m\u001b[0m\n\u001b[1;32m    865\u001b[0m                 \u001b[0mioargs\u001b[0m\u001b[0;34m.\u001b[0m\u001b[0mmode\u001b[0m\u001b[0;34m,\u001b[0m\u001b[0;34m\u001b[0m\u001b[0;34m\u001b[0m\u001b[0m\n",
            "\u001b[0;31mFileNotFoundError\u001b[0m: [Errno 2] No such file or directory: '/kaggle/input/titanic/train.csv'"
          ]
        }
      ],
      "source": [
        "#reading the data from csv files\n",
        "df = pd.read_csv('train.csv')\n",
        "df_test = pd.read_csv('test.csv')\n",
        "df_target = pd.read_csv('gender_submission.csv')"
      ]
    },
    {
      "cell_type": "markdown",
      "id": "989044e4",
      "metadata": {
        "papermill": {
          "duration": 0.011199,
          "end_time": "2024-08-06T01:07:24.930759",
          "exception": false,
          "start_time": "2024-08-06T01:07:24.919560",
          "status": "completed"
        },
        "tags": [],
        "id": "989044e4"
      },
      "source": [
        "# data discovery and analysis\n"
      ]
    },
    {
      "cell_type": "code",
      "execution_count": null,
      "id": "e044e339",
      "metadata": {
        "execution": {
          "iopub.execute_input": "2024-08-06T01:07:24.955860Z",
          "iopub.status.busy": "2024-08-06T01:07:24.955276Z",
          "iopub.status.idle": "2024-08-06T01:07:25.008914Z",
          "shell.execute_reply": "2024-08-06T01:07:25.007501Z"
        },
        "papermill": {
          "duration": 0.068803,
          "end_time": "2024-08-06T01:07:25.010732",
          "exception": false,
          "start_time": "2024-08-06T01:07:24.941929",
          "status": "completed"
        },
        "tags": [],
        "id": "e044e339",
        "outputId": "c4fcc5d9-0359-454b-fd18-5a65fe692c36"
      },
      "outputs": [
        {
          "name": "stdout",
          "output_type": "stream",
          "text": [
            "data description: \n",
            "       PassengerId    Survived      Pclass         Age       SibSp  \\\n",
            "count   891.000000  891.000000  891.000000  714.000000  891.000000   \n",
            "mean    446.000000    0.383838    2.308642   29.699118    0.523008   \n",
            "std     257.353842    0.486592    0.836071   14.526497    1.102743   \n",
            "min       1.000000    0.000000    1.000000    0.420000    0.000000   \n",
            "25%     223.500000    0.000000    2.000000   20.125000    0.000000   \n",
            "50%     446.000000    0.000000    3.000000   28.000000    0.000000   \n",
            "75%     668.500000    1.000000    3.000000   38.000000    1.000000   \n",
            "max     891.000000    1.000000    3.000000   80.000000    8.000000   \n",
            "\n",
            "            Parch        Fare  \n",
            "count  891.000000  891.000000  \n",
            "mean     0.381594   32.204208  \n",
            "std      0.806057   49.693429  \n",
            "min      0.000000    0.000000  \n",
            "25%      0.000000    7.910400  \n",
            "50%      0.000000   14.454200  \n",
            "75%      0.000000   31.000000  \n",
            "max      6.000000  512.329200  \n",
            "data info :\n",
            "<class 'pandas.core.frame.DataFrame'>\n",
            "RangeIndex: 891 entries, 0 to 890\n",
            "Data columns (total 12 columns):\n",
            " #   Column       Non-Null Count  Dtype  \n",
            "---  ------       --------------  -----  \n",
            " 0   PassengerId  891 non-null    int64  \n",
            " 1   Survived     891 non-null    int64  \n",
            " 2   Pclass       891 non-null    int64  \n",
            " 3   Name         891 non-null    object \n",
            " 4   Sex          891 non-null    object \n",
            " 5   Age          714 non-null    float64\n",
            " 6   SibSp        891 non-null    int64  \n",
            " 7   Parch        891 non-null    int64  \n",
            " 8   Ticket       891 non-null    object \n",
            " 9   Fare         891 non-null    float64\n",
            " 10  Cabin        204 non-null    object \n",
            " 11  Embarked     889 non-null    object \n",
            "dtypes: float64(2), int64(5), object(5)\n",
            "memory usage: 83.7+ KB\n",
            "None\n",
            "data shape :\n",
            "(891, 12)\n"
          ]
        }
      ],
      "source": [
        "print(\"data description: \")\n",
        "print(df.describe())#We use the describe() method to get a summary of the numerical columns in the dataset.\n",
        "print(\"data info :\")\n",
        "print(df.info())  # Displays information about data types and non-null values\n",
        "print(\"data shape :\")\n",
        "print(df.shape)  # Displays the shape of the dataframe"
      ]
    },
    {
      "cell_type": "markdown",
      "id": "c16cb992",
      "metadata": {
        "papermill": {
          "duration": 0.011203,
          "end_time": "2024-08-06T01:07:25.033800",
          "exception": false,
          "start_time": "2024-08-06T01:07:25.022597",
          "status": "completed"
        },
        "tags": [],
        "id": "c16cb992"
      },
      "source": [
        "**visualizing the class tickets with the survival see which class ticket have the least survival**\n"
      ]
    },
    {
      "cell_type": "code",
      "execution_count": null,
      "id": "7d5a807b",
      "metadata": {
        "execution": {
          "iopub.execute_input": "2024-08-06T01:07:25.057726Z",
          "iopub.status.busy": "2024-08-06T01:07:25.057456Z",
          "iopub.status.idle": "2024-08-06T01:07:25.409544Z",
          "shell.execute_reply": "2024-08-06T01:07:25.408617Z"
        },
        "papermill": {
          "duration": 0.366589,
          "end_time": "2024-08-06T01:07:25.411789",
          "exception": false,
          "start_time": "2024-08-06T01:07:25.045200",
          "status": "completed"
        },
        "tags": [],
        "id": "7d5a807b",
        "outputId": "8afe51fa-46c0-40d0-9f84-cd52af34509c"
      },
      "outputs": [
        {
          "data": {
            "image/png": "[encoded data removed]",
            "text/plain": [
              "<Figure size 1200x600 with 1 Axes>"
            ]
          },
          "metadata": {},
          "output_type": "display_data"
        }
      ],
      "source": [
        "import matplotlib.pyplot as plt\n",
        "Pclass_survival_counts = pd.crosstab(df['Pclass'], df['Survived'])\n",
        "Pclass_survival_counts.plot(kind='bar', figsize=(12, 6), color=['red', 'blue'])\n",
        "\n",
        "# Add titles and labels\n",
        "plt.title('Count of Each Pclass Letter by Survival Status')\n",
        "plt.xlabel('Pclass number')\n",
        "plt.ylabel('Count')\n",
        "plt.legend(title='Survived', labels=['Not Survived', 'Survived'])\n",
        "plt.xticks(rotation=45)  # Rotate x labels for better readability\n",
        "plt.show()\n"
      ]
    },
    {
      "cell_type": "code",
      "execution_count": null,
      "id": "1e8bfb75",
      "metadata": {
        "execution": {
          "iopub.execute_input": "2024-08-06T01:07:25.435769Z",
          "iopub.status.busy": "2024-08-06T01:07:25.435481Z",
          "iopub.status.idle": "2024-08-06T01:07:25.444563Z",
          "shell.execute_reply": "2024-08-06T01:07:25.443761Z"
        },
        "papermill": {
          "duration": 0.023264,
          "end_time": "2024-08-06T01:07:25.446512",
          "exception": false,
          "start_time": "2024-08-06T01:07:25.423248",
          "status": "completed"
        },
        "tags": [],
        "id": "1e8bfb75"
      },
      "outputs": [],
      "source": [
        "#extraction of cabin letter only for better visualization\n",
        "import re\n",
        "def extract_cabin_letter(cabin):\n",
        "    if pd.isna(cabin):\n",
        "        return None\n",
        "    match = re.match(r'([A-Z])', cabin)\n",
        "    return match.group(1) if match else None\n",
        "df['Cabin'] = df['Cabin'].apply(extract_cabin_letter)"
      ]
    },
    {
      "cell_type": "markdown",
      "id": "fc2eed9c",
      "metadata": {
        "papermill": {
          "duration": 0.011315,
          "end_time": "2024-08-06T01:07:25.469493",
          "exception": false,
          "start_time": "2024-08-06T01:07:25.458178",
          "status": "completed"
        },
        "tags": [],
        "id": "fc2eed9c"
      },
      "source": [
        "we see that C cabin have the largest number of deathes"
      ]
    },
    {
      "cell_type": "code",
      "execution_count": null,
      "id": "91ded1e4",
      "metadata": {
        "execution": {
          "iopub.execute_input": "2024-08-06T01:07:25.493581Z",
          "iopub.status.busy": "2024-08-06T01:07:25.493042Z",
          "iopub.status.idle": "2024-08-06T01:07:25.831078Z",
          "shell.execute_reply": "2024-08-06T01:07:25.830266Z"
        },
        "papermill": {
          "duration": 0.352595,
          "end_time": "2024-08-06T01:07:25.833249",
          "exception": false,
          "start_time": "2024-08-06T01:07:25.480654",
          "status": "completed"
        },
        "tags": [],
        "id": "91ded1e4",
        "outputId": "a5730ce8-685f-4ccb-90e7-1992d5d5ed65"
      },
      "outputs": [
        {
          "data": {
            "image/png": "[encoded data removed]",
            "text/plain": [
              "<Figure size 1200x600 with 1 Axes>"
            ]
          },
          "metadata": {},
          "output_type": "display_data"
        }
      ],
      "source": [
        "cabin_survival_counts = pd.crosstab(df['Cabin'], df['Survived'])\n",
        "cabin_survival_counts.plot(kind='bar', figsize=(12, 6), color=['red', 'blue'])\n",
        "\n",
        "# Add titles and labels\n",
        "plt.title('Count of Each Cabin Letter by Survival Status')\n",
        "plt.xlabel('Cabin Letter')\n",
        "plt.ylabel('Count')\n",
        "plt.legend(title='Survived', labels=['Not Survived', 'Survived'])\n",
        "plt.xticks(rotation=45)  # Rotate x labels for better readability\n",
        "plt.show()"
      ]
    },
    {
      "cell_type": "markdown",
      "id": "655c3502",
      "metadata": {
        "papermill": {
          "duration": 0.011583,
          "end_time": "2024-08-06T01:07:25.856726",
          "exception": false,
          "start_time": "2024-08-06T01:07:25.845143",
          "status": "completed"
        },
        "tags": [],
        "id": "655c3502"
      },
      "source": [
        "> knowing how the age of the person have impact with his survival\n",
        "after the ploting it seems that age do not have a great impact"
      ]
    },
    {
      "cell_type": "code",
      "execution_count": null,
      "id": "38f1e470",
      "metadata": {
        "execution": {
          "iopub.execute_input": "2024-08-06T01:07:25.881384Z",
          "iopub.status.busy": "2024-08-06T01:07:25.881072Z",
          "iopub.status.idle": "2024-08-06T01:07:26.247503Z",
          "shell.execute_reply": "2024-08-06T01:07:26.246580Z"
        },
        "papermill": {
          "duration": 0.381205,
          "end_time": "2024-08-06T01:07:26.249535",
          "exception": false,
          "start_time": "2024-08-06T01:07:25.868330",
          "status": "completed"
        },
        "tags": [],
        "id": "38f1e470",
        "outputId": "f0b17e69-751c-4e62-a6f1-e8dc435d888f"
      },
      "outputs": [
        {
          "data": {
            "image/png": "[encoded data removed]",
            "text/plain": [
              "<Figure size 1000x600 with 1 Axes>"
            ]
          },
          "metadata": {},
          "output_type": "display_data"
        }
      ],
      "source": [
        "df_non_null = df.dropna(subset=['Age'])\n",
        "plt.figure(figsize=(10, 6))\n",
        "\n",
        "plt.scatter(df[df['Survived'] == 1].index, df[df['Survived'] == 1]['Age'], color='blue', label='Survived', alpha=0.5)\n",
        "\n",
        "plt.scatter(df[df['Survived'] == 0].index, df[df['Survived'] == 0]['Age'], color='red', label='Not Survived', alpha=0.5)\n",
        "\n",
        "plt.title('Scatter plot of Age vs Survival Status')\n",
        "plt.xlabel('Index')\n",
        "plt.ylabel('Age')\n",
        "plt.legend()\n",
        "plt.show()"
      ]
    },
    {
      "cell_type": "code",
      "execution_count": null,
      "id": "5d6ff56f",
      "metadata": {
        "execution": {
          "iopub.execute_input": "2024-08-06T01:07:26.277216Z",
          "iopub.status.busy": "2024-08-06T01:07:26.276901Z",
          "iopub.status.idle": "2024-08-06T01:07:26.284344Z",
          "shell.execute_reply": "2024-08-06T01:07:26.283553Z"
        },
        "papermill": {
          "duration": 0.023692,
          "end_time": "2024-08-06T01:07:26.286282",
          "exception": false,
          "start_time": "2024-08-06T01:07:26.262590",
          "status": "completed"
        },
        "tags": [],
        "id": "5d6ff56f",
        "outputId": "0511c345-0f3f-4c4e-ce01-56e30564c907"
      },
      "outputs": [
        {
          "data": {
            "text/plain": [
              "-0.07722109457217759"
            ]
          },
          "execution_count": 8,
          "metadata": {},
          "output_type": "execute_result"
        }
      ],
      "source": [
        "correlation = df[['Age', 'Survived']].corr().loc['Age', 'Survived']\n",
        "correlation #so the correlation will be very little"
      ]
    },
    {
      "cell_type": "markdown",
      "id": "6b608414",
      "metadata": {
        "papermill": {
          "duration": 0.01293,
          "end_time": "2024-08-06T01:07:26.311998",
          "exception": false,
          "start_time": "2024-08-06T01:07:26.299068",
          "status": "completed"
        },
        "tags": [],
        "id": "6b608414"
      },
      "source": [
        "let's see the gender impact with survival rate\n"
      ]
    },
    {
      "cell_type": "code",
      "execution_count": null,
      "id": "0c30244b",
      "metadata": {
        "execution": {
          "iopub.execute_input": "2024-08-06T01:07:26.342250Z",
          "iopub.status.busy": "2024-08-06T01:07:26.341907Z",
          "iopub.status.idle": "2024-08-06T01:07:26.598716Z",
          "shell.execute_reply": "2024-08-06T01:07:26.597471Z"
        },
        "papermill": {
          "duration": 0.277797,
          "end_time": "2024-08-06T01:07:26.602521",
          "exception": false,
          "start_time": "2024-08-06T01:07:26.324724",
          "status": "completed"
        },
        "tags": [],
        "id": "0c30244b",
        "outputId": "76ccfd78-20a7-447d-d21e-6b181b52bca7"
      },
      "outputs": [
        {
          "data": {
            "image/png": "[encoded data removed]",
            "text/plain": [
              "<Figure size 1000x600 with 1 Axes>"
            ]
          },
          "metadata": {},
          "output_type": "display_data"
        }
      ],
      "source": [
        "survival_counts = pd.crosstab(df['Sex'], df['Survived'])\n",
        "\n",
        "survival_counts.plot(kind='bar', figsize=(10, 6), color=['red', 'blue'])\n",
        "\n",
        "plt.title('Survival Count by Gender')\n",
        "plt.xlabel('Gender')\n",
        "plt.ylabel('Count')\n",
        "plt.legend(title='Survived', labels=['Not Survived', 'Survived'])\n",
        "plt.show()"
      ]
    },
    {
      "cell_type": "markdown",
      "id": "6d4da176",
      "metadata": {
        "papermill": {
          "duration": 0.012969,
          "end_time": "2024-08-06T01:07:26.630508",
          "exception": false,
          "start_time": "2024-08-06T01:07:26.617539",
          "status": "completed"
        },
        "tags": [],
        "id": "6d4da176"
      },
      "source": [
        "fare with survival"
      ]
    },
    {
      "cell_type": "code",
      "execution_count": null,
      "id": "f72cbf04",
      "metadata": {
        "execution": {
          "iopub.execute_input": "2024-08-06T01:07:26.657863Z",
          "iopub.status.busy": "2024-08-06T01:07:26.657569Z",
          "iopub.status.idle": "2024-08-06T01:07:27.051769Z",
          "shell.execute_reply": "2024-08-06T01:07:27.050904Z"
        },
        "papermill": {
          "duration": 0.41028,
          "end_time": "2024-08-06T01:07:27.053948",
          "exception": false,
          "start_time": "2024-08-06T01:07:26.643668",
          "status": "completed"
        },
        "tags": [],
        "id": "f72cbf04",
        "outputId": "f46f8233-52e1-4e64-8eef-bf15ab1d11fe"
      },
      "outputs": [
        {
          "data": {
            "image/png": "[encoded data removed]",
            "text/plain": [
              "<Figure size 640x480 with 1 Axes>"
            ]
          },
          "metadata": {},
          "output_type": "display_data"
        }
      ],
      "source": [
        "df[df['Survived'] == 0]['Fare'].plot(kind='hist', alpha=0.5, label='Not Survived', bins=30)\n",
        "df[df['Survived'] == 1]['Fare'].plot(kind='hist', alpha=0.5, label='Survived', bins=30)\n",
        "\n",
        "# Add titles and labels\n",
        "plt.title('Fare Distribution by Survival Status')\n",
        "plt.xlabel('Fare')\n",
        "plt.ylabel('Frequency')\n",
        "plt.legend()\n",
        "plt.show()"
      ]
    },
    {
      "cell_type": "markdown",
      "id": "359c16e1",
      "metadata": {
        "papermill": {
          "duration": 0.013405,
          "end_time": "2024-08-06T01:07:27.082545",
          "exception": false,
          "start_time": "2024-08-06T01:07:27.069140",
          "status": "completed"
        },
        "tags": [],
        "id": "359c16e1"
      },
      "source": [
        "let us see the skewness of data"
      ]
    },
    {
      "cell_type": "code",
      "execution_count": null,
      "id": "119ee737",
      "metadata": {
        "execution": {
          "iopub.execute_input": "2024-08-06T01:07:27.111156Z",
          "iopub.status.busy": "2024-08-06T01:07:27.110820Z",
          "iopub.status.idle": "2024-08-06T01:07:27.644734Z",
          "shell.execute_reply": "2024-08-06T01:07:27.643873Z"
        },
        "papermill": {
          "duration": 0.550467,
          "end_time": "2024-08-06T01:07:27.646914",
          "exception": false,
          "start_time": "2024-08-06T01:07:27.096447",
          "status": "completed"
        },
        "tags": [],
        "id": "119ee737",
        "outputId": "90c03527-f23b-4f71-95ff-cbe57a160d5b"
      },
      "outputs": [
        {
          "data": {
            "image/png": "[encoded data removed]",
            "text/plain": [
              "<Figure size 1200x500 with 2 Axes>"
            ]
          },
          "metadata": {},
          "output_type": "display_data"
        }
      ],
      "source": [
        "numerical_df = df[['Age', 'Fare']]\n",
        "\n",
        "# Plot histograms for 'Age' and 'Fare'\n",
        "plt.figure(figsize=(12, 5))\n",
        "\n",
        "# Plot histogram for 'Age'\n",
        "plt.subplot(1, 2, 1)\n",
        "numerical_df['Age'].hist(bins=30, edgecolor='k', alpha=0.7)\n",
        "plt.title('Distribution of Age')\n",
        "plt.xlabel('Age')\n",
        "plt.ylabel('Frequency')\n",
        "\n",
        "# Plot histogram for 'Fare'\n",
        "plt.subplot(1, 2, 2)\n",
        "numerical_df['Fare'].hist(bins=30, edgecolor='k', alpha=0.7)\n",
        "plt.title('Distribution of Fare')\n",
        "plt.xlabel('Fare')\n",
        "plt.ylabel('Frequency')\n",
        "\n",
        "plt.tight_layout()\n",
        "plt.show()"
      ]
    },
    {
      "cell_type": "code",
      "execution_count": null,
      "id": "61148f1c",
      "metadata": {
        "papermill": {
          "duration": 0.013922,
          "end_time": "2024-08-06T01:07:27.675185",
          "exception": false,
          "start_time": "2024-08-06T01:07:27.661263",
          "status": "completed"
        },
        "tags": [],
        "id": "61148f1c"
      },
      "outputs": [],
      "source": []
    },
    {
      "cell_type": "markdown",
      "id": "d0b3812f",
      "metadata": {
        "papermill": {
          "duration": 0.013778,
          "end_time": "2024-08-06T01:07:27.702937",
          "exception": false,
          "start_time": "2024-08-06T01:07:27.689159",
          "status": "completed"
        },
        "tags": [],
        "id": "d0b3812f"
      },
      "source": [
        "# preprocessing\n",
        "we will preprocess our dataframe and our test dataframe"
      ]
    },
    {
      "cell_type": "code",
      "execution_count": null,
      "id": "fde62e9e",
      "metadata": {
        "execution": {
          "iopub.execute_input": "2024-08-06T01:07:27.732087Z",
          "iopub.status.busy": "2024-08-06T01:07:27.731811Z",
          "iopub.status.idle": "2024-08-06T01:07:27.742609Z",
          "shell.execute_reply": "2024-08-06T01:07:27.741556Z"
        },
        "papermill": {
          "duration": 0.027784,
          "end_time": "2024-08-06T01:07:27.744704",
          "exception": false,
          "start_time": "2024-08-06T01:07:27.716920",
          "status": "completed"
        },
        "tags": [],
        "id": "fde62e9e",
        "outputId": "350bbba2-e1d3-4c50-8096-168730254564"
      },
      "outputs": [
        {
          "name": "stdout",
          "output_type": "stream",
          "text": [
            "<class 'pandas.core.frame.DataFrame'>\n",
            "RangeIndex: 418 entries, 0 to 417\n",
            "Data columns (total 11 columns):\n",
            " #   Column       Non-Null Count  Dtype  \n",
            "---  ------       --------------  -----  \n",
            " 0   PassengerId  418 non-null    int64  \n",
            " 1   Pclass       418 non-null    int64  \n",
            " 2   Name         418 non-null    object \n",
            " 3   Sex          418 non-null    object \n",
            " 4   Age          332 non-null    float64\n",
            " 5   SibSp        418 non-null    int64  \n",
            " 6   Parch        418 non-null    int64  \n",
            " 7   Ticket       418 non-null    object \n",
            " 8   Fare         417 non-null    float64\n",
            " 9   Cabin        91 non-null     object \n",
            " 10  Embarked     418 non-null    object \n",
            "dtypes: float64(2), int64(4), object(5)\n",
            "memory usage: 36.0+ KB\n"
          ]
        }
      ],
      "source": [
        "df_test.info()"
      ]
    },
    {
      "cell_type": "markdown",
      "id": "4d90a966",
      "metadata": {
        "papermill": {
          "duration": 0.013836,
          "end_time": "2024-08-06T01:07:27.772982",
          "exception": false,
          "start_time": "2024-08-06T01:07:27.759146",
          "status": "completed"
        },
        "tags": [],
        "id": "4d90a966"
      },
      "source": [
        "there are null in (Age , Embarked , Cabin) will do same pre processing in df_test too\n",
        "* i will remove cabin colom as the null is more than the half ',\n",
        "* i will use the mode to fillna in embarked ,\n",
        "* i will use the median to fillna in age as there as some outliers\n",
        "* i also delete name and passengerid as they have no use in the training process"
      ]
    },
    {
      "cell_type": "code",
      "execution_count": null,
      "id": "fc5b6c6e",
      "metadata": {
        "execution": {
          "iopub.execute_input": "2024-08-06T01:07:27.802766Z",
          "iopub.status.busy": "2024-08-06T01:07:27.802502Z",
          "iopub.status.idle": "2024-08-06T01:07:27.808452Z",
          "shell.execute_reply": "2024-08-06T01:07:27.807587Z"
        },
        "papermill": {
          "duration": 0.023047,
          "end_time": "2024-08-06T01:07:27.810266",
          "exception": false,
          "start_time": "2024-08-06T01:07:27.787219",
          "status": "completed"
        },
        "tags": [],
        "id": "fc5b6c6e"
      },
      "outputs": [],
      "source": [
        "columns_to_drop = ['Name', 'PassengerId','Cabin','Ticket']\n",
        "df.drop(columns=columns_to_drop , inplace=True)\n",
        "df_test.drop(columns=columns_to_drop , inplace=True)"
      ]
    },
    {
      "cell_type": "code",
      "execution_count": null,
      "id": "bd215af7",
      "metadata": {
        "execution": {
          "iopub.execute_input": "2024-08-06T01:07:27.840020Z",
          "iopub.status.busy": "2024-08-06T01:07:27.839788Z",
          "iopub.status.idle": "2024-08-06T01:07:27.846326Z",
          "shell.execute_reply": "2024-08-06T01:07:27.845504Z"
        },
        "papermill": {
          "duration": 0.023458,
          "end_time": "2024-08-06T01:07:27.848232",
          "exception": false,
          "start_time": "2024-08-06T01:07:27.824774",
          "status": "completed"
        },
        "tags": [],
        "id": "bd215af7"
      },
      "outputs": [],
      "source": [
        "median_age = df['Age'].median()\n",
        "df['Age'] = df['Age'].fillna(median_age)\n",
        "\n",
        "median_age_test = df_test['Age'].median()\n",
        "df_test['Age'] = df_test['Age'].fillna(median_age_test)"
      ]
    },
    {
      "cell_type": "markdown",
      "id": "d99d1051",
      "metadata": {
        "papermill": {
          "duration": 0.014455,
          "end_time": "2024-08-06T01:07:27.876792",
          "exception": false,
          "start_time": "2024-08-06T01:07:27.862337",
          "status": "completed"
        },
        "tags": [],
        "id": "d99d1051"
      },
      "source": [
        "we will consider Pclass a catergorical variable"
      ]
    },
    {
      "cell_type": "code",
      "execution_count": null,
      "id": "01024f0d",
      "metadata": {
        "execution": {
          "iopub.execute_input": "2024-08-06T01:07:27.906209Z",
          "iopub.status.busy": "2024-08-06T01:07:27.905922Z",
          "iopub.status.idle": "2024-08-06T01:07:27.918388Z",
          "shell.execute_reply": "2024-08-06T01:07:27.917479Z"
        },
        "papermill": {
          "duration": 0.029268,
          "end_time": "2024-08-06T01:07:27.920352",
          "exception": false,
          "start_time": "2024-08-06T01:07:27.891084",
          "status": "completed"
        },
        "tags": [],
        "id": "01024f0d"
      },
      "outputs": [],
      "source": [
        "categorical_columns = ['Sex', 'Embarked', 'Pclass']\n",
        "\n",
        "df = pd.get_dummies(df, columns=categorical_columns, drop_first=True)\n",
        "df_test = pd.get_dummies(df_test, columns=categorical_columns, drop_first=True)"
      ]
    },
    {
      "cell_type": "markdown",
      "id": "72a630e3",
      "metadata": {
        "papermill": {
          "duration": 0.014075,
          "end_time": "2024-08-06T01:07:27.948516",
          "exception": false,
          "start_time": "2024-08-06T01:07:27.934441",
          "status": "completed"
        },
        "tags": [],
        "id": "72a630e3"
      },
      "source": [
        "changing all bool to int"
      ]
    },
    {
      "cell_type": "code",
      "execution_count": null,
      "id": "4afe1c9d",
      "metadata": {
        "execution": {
          "iopub.execute_input": "2024-08-06T01:07:28.016830Z",
          "iopub.status.busy": "2024-08-06T01:07:28.016020Z",
          "iopub.status.idle": "2024-08-06T01:07:28.024803Z",
          "shell.execute_reply": "2024-08-06T01:07:28.024069Z"
        },
        "papermill": {
          "duration": 0.026507,
          "end_time": "2024-08-06T01:07:28.026895",
          "exception": false,
          "start_time": "2024-08-06T01:07:28.000388",
          "status": "completed"
        },
        "tags": [],
        "id": "4afe1c9d"
      },
      "outputs": [],
      "source": [
        "bool_columns = df.select_dtypes(include='bool').columns\n",
        "\n",
        "df[bool_columns] = df[bool_columns].astype(int)\n",
        "df_test[bool_columns] = df_test[bool_columns].astype(int)"
      ]
    },
    {
      "cell_type": "markdown",
      "id": "7e0e06ae",
      "metadata": {
        "papermill": {
          "duration": 0.014886,
          "end_time": "2024-08-06T01:07:28.057619",
          "exception": false,
          "start_time": "2024-08-06T01:07:28.042733",
          "status": "completed"
        },
        "tags": [],
        "id": "7e0e06ae"
      },
      "source": [
        "**training the model**"
      ]
    },
    {
      "cell_type": "code",
      "execution_count": null,
      "id": "80173dd4",
      "metadata": {
        "execution": {
          "iopub.execute_input": "2024-08-06T01:07:28.087700Z",
          "iopub.status.busy": "2024-08-06T01:07:28.086958Z",
          "iopub.status.idle": "2024-08-06T01:07:29.377081Z",
          "shell.execute_reply": "2024-08-06T01:07:29.375177Z"
        },
        "papermill": {
          "duration": 1.307654,
          "end_time": "2024-08-06T01:07:29.379377",
          "exception": false,
          "start_time": "2024-08-06T01:07:28.071723",
          "status": "completed"
        },
        "tags": [],
        "id": "80173dd4"
      },
      "outputs": [],
      "source": [
        "from sklearn.preprocessing import StandardScaler\n",
        "\n",
        "y = df['Survived']\n",
        "X = df.drop('Survived',axis=1)\n",
        "\n",
        "scaler = StandardScaler()\n",
        "\n",
        "X_scaled = scaler.fit_transform(X)\n",
        "\n"
      ]
    },
    {
      "cell_type": "code",
      "execution_count": null,
      "id": "c885b556",
      "metadata": {
        "execution": {
          "iopub.execute_input": "2024-08-06T01:07:29.409505Z",
          "iopub.status.busy": "2024-08-06T01:07:29.409229Z",
          "iopub.status.idle": "2024-08-06T01:07:29.418478Z",
          "shell.execute_reply": "2024-08-06T01:07:29.417624Z"
        },
        "papermill": {
          "duration": 0.02651,
          "end_time": "2024-08-06T01:07:29.420680",
          "exception": false,
          "start_time": "2024-08-06T01:07:29.394170",
          "status": "completed"
        },
        "tags": [],
        "id": "c885b556",
        "outputId": "b53ced90-0a99-45d2-d590-3683f5657a09"
      },
      "outputs": [
        {
          "name": "stdout",
          "output_type": "stream",
          "text": [
            "<class 'pandas.core.frame.DataFrame'>\n",
            "RangeIndex: 418 entries, 0 to 417\n",
            "Data columns (total 9 columns):\n",
            " #   Column      Non-Null Count  Dtype  \n",
            "---  ------      --------------  -----  \n",
            " 0   Age         418 non-null    float64\n",
            " 1   SibSp       418 non-null    int64  \n",
            " 2   Parch       418 non-null    int64  \n",
            " 3   Fare        417 non-null    float64\n",
            " 4   Sex_male    418 non-null    int64  \n",
            " 5   Embarked_Q  418 non-null    int64  \n",
            " 6   Embarked_S  418 non-null    int64  \n",
            " 7   Pclass_2    418 non-null    int64  \n",
            " 8   Pclass_3    418 non-null    int64  \n",
            "dtypes: float64(2), int64(7)\n",
            "memory usage: 29.5 KB\n"
          ]
        }
      ],
      "source": [
        "df_test.info()"
      ]
    },
    {
      "cell_type": "code",
      "execution_count": null,
      "id": "d04d75ea",
      "metadata": {
        "execution": {
          "iopub.execute_input": "2024-08-06T01:07:29.450619Z",
          "iopub.status.busy": "2024-08-06T01:07:29.450341Z",
          "iopub.status.idle": "2024-08-06T01:07:29.460597Z",
          "shell.execute_reply": "2024-08-06T01:07:29.459611Z"
        },
        "papermill": {
          "duration": 0.027368,
          "end_time": "2024-08-06T01:07:29.462554",
          "exception": false,
          "start_time": "2024-08-06T01:07:29.435186",
          "status": "completed"
        },
        "tags": [],
        "id": "d04d75ea"
      },
      "outputs": [],
      "source": [
        "median_fare = df_test['Fare'].median()\n",
        "df_test['Fare']=df_test['Fare'].fillna(median_fare)\n",
        "df_test_scaled = scaler.fit_transform(df_test)\n"
      ]
    },
    {
      "cell_type": "code",
      "execution_count": null,
      "id": "be083db5",
      "metadata": {
        "execution": {
          "iopub.execute_input": "2024-08-06T01:07:29.492544Z",
          "iopub.status.busy": "2024-08-06T01:07:29.492001Z",
          "iopub.status.idle": "2024-08-06T01:07:29.597747Z",
          "shell.execute_reply": "2024-08-06T01:07:29.597050Z"
        },
        "papermill": {
          "duration": 0.122799,
          "end_time": "2024-08-06T01:07:29.599634",
          "exception": false,
          "start_time": "2024-08-06T01:07:29.476835",
          "status": "completed"
        },
        "tags": [],
        "id": "be083db5"
      },
      "outputs": [],
      "source": [
        "from sklearn.model_selection import GridSearchCV\n",
        "from sklearn.metrics import accuracy_score, classification_report"
      ]
    },
    {
      "cell_type": "code",
      "execution_count": null,
      "id": "d094317b",
      "metadata": {
        "execution": {
          "iopub.execute_input": "2024-08-06T01:07:29.629739Z",
          "iopub.status.busy": "2024-08-06T01:07:29.629478Z",
          "iopub.status.idle": "2024-08-06T01:07:30.509339Z",
          "shell.execute_reply": "2024-08-06T01:07:30.508536Z"
        },
        "papermill": {
          "duration": 0.897033,
          "end_time": "2024-08-06T01:07:30.511337",
          "exception": false,
          "start_time": "2024-08-06T01:07:29.614304",
          "status": "completed"
        },
        "tags": [],
        "id": "d094317b",
        "outputId": "04da2ba0-3940-46fe-f5f9-70629cb740b9"
      },
      "outputs": [
        {
          "data": {
            "text/html": [
              "<style>#sk-container-id-1 {color: black;background-color: white;}#sk-container-id-1 pre{padding: 0;}#sk-container-id-1 div.sk-toggleable {background-color: white;}#sk-container-id-1 label.sk-toggleable__label {cursor: pointer;display: block;width: 100%;margin-bottom: 0;padding: 0.3em;box-sizing: border-box;text-align: center;}#sk-container-id-1 label.sk-toggleable__label-arrow:before {content: \"▸\";float: left;margin-right: 0.25em;color: #696969;}#sk-container-id-1 label.sk-toggleable__label-arrow:hover:before {color: black;}#sk-container-id-1 div.sk-estimator:hover label.sk-toggleable__label-arrow:before {color: black;}#sk-container-id-1 div.sk-toggleable__content {max-height: 0;max-width: 0;overflow: hidden;text-align: left;background-color: #f0f8ff;}#sk-container-id-1 div.sk-toggleable__content pre {margin: 0.2em;color: black;border-radius: 0.25em;background-color: #f0f8ff;}#sk-container-id-1 input.sk-toggleable__control:checked~div.sk-toggleable__content {max-height: 200px;max-width: 100%;overflow: auto;}#sk-container-id-1 input.sk-toggleable__control:checked~label.sk-toggleable__label-arrow:before {content: \"▾\";}#sk-container-id-1 div.sk-estimator input.sk-toggleable__control:checked~label.sk-toggleable__label {background-color: #d4ebff;}#sk-container-id-1 div.sk-label input.sk-toggleable__control:checked~label.sk-toggleable__label {background-color: #d4ebff;}#sk-container-id-1 input.sk-hidden--visually {border: 0;clip: rect(1px 1px 1px 1px);clip: rect(1px, 1px, 1px, 1px);height: 1px;margin: -1px;overflow: hidden;padding: 0;position: absolute;width: 1px;}#sk-container-id-1 div.sk-estimator {font-family: monospace;background-color: #f0f8ff;border: 1px dotted black;border-radius: 0.25em;box-sizing: border-box;margin-bottom: 0.5em;}#sk-container-id-1 div.sk-estimator:hover {background-color: #d4ebff;}#sk-container-id-1 div.sk-parallel-item::after {content: \"\";width: 100%;border-bottom: 1px solid gray;flex-grow: 1;}#sk-container-id-1 div.sk-label:hover label.sk-toggleable__label {background-color: #d4ebff;}#sk-container-id-1 div.sk-serial::before {content: \"\";position: absolute;border-left: 1px solid gray;box-sizing: border-box;top: 0;bottom: 0;left: 50%;z-index: 0;}#sk-container-id-1 div.sk-serial {display: flex;flex-direction: column;align-items: center;background-color: white;padding-right: 0.2em;padding-left: 0.2em;position: relative;}#sk-container-id-1 div.sk-item {position: relative;z-index: 1;}#sk-container-id-1 div.sk-parallel {display: flex;align-items: stretch;justify-content: center;background-color: white;position: relative;}#sk-container-id-1 div.sk-item::before, #sk-container-id-1 div.sk-parallel-item::before {content: \"\";position: absolute;border-left: 1px solid gray;box-sizing: border-box;top: 0;bottom: 0;left: 50%;z-index: -1;}#sk-container-id-1 div.sk-parallel-item {display: flex;flex-direction: column;z-index: 1;position: relative;background-color: white;}#sk-container-id-1 div.sk-parallel-item:first-child::after {align-self: flex-end;width: 50%;}#sk-container-id-1 div.sk-parallel-item:last-child::after {align-self: flex-start;width: 50%;}#sk-container-id-1 div.sk-parallel-item:only-child::after {width: 0;}#sk-container-id-1 div.sk-dashed-wrapped {border: 1px dashed gray;margin: 0 0.4em 0.5em 0.4em;box-sizing: border-box;padding-bottom: 0.4em;background-color: white;}#sk-container-id-1 div.sk-label label {font-family: monospace;font-weight: bold;display: inline-block;line-height: 1.2em;}#sk-container-id-1 div.sk-label-container {text-align: center;}#sk-container-id-1 div.sk-container {/* jupyter's `normalize.less` sets `[hidden] { display: none; }` but bootstrap.min.css set `[hidden] { display: none !important; }` so we also need the `!important` here to be able to override the default hidden behavior on the sphinx rendered scikit-learn.org. See: https://github.com/scikit-learn/scikit-learn/issues/21755 */display: inline-block !important;position: relative;}#sk-container-id-1 div.sk-text-repr-fallback {display: none;}</style><div id=\"sk-container-id-1\" class=\"sk-top-container\"><div class=\"sk-text-repr-fallback\"><pre>GridSearchCV(cv=5, estimator=LogisticRegression(),\n",
              "             param_grid={&#x27;C&#x27;: [0.1, 1, 10],\n",
              "                         &#x27;max_iter&#x27;: [50, 100, 150, 200, 500, 1000],\n",
              "                         &#x27;solver&#x27;: [&#x27;liblinear&#x27;, &#x27;saga&#x27;]},\n",
              "             scoring=&#x27;accuracy&#x27;)</pre><b>In a Jupyter environment, please rerun this cell to show the HTML representation or trust the notebook. <br />On GitHub, the HTML representation is unable to render, please try loading this page with nbviewer.org.</b></div><div class=\"sk-container\" hidden><div class=\"sk-item sk-dashed-wrapped\"><div class=\"sk-label-container\"><div class=\"sk-label sk-toggleable\"><input class=\"sk-toggleable__control sk-hidden--visually\" id=\"sk-estimator-id-1\" type=\"checkbox\" ><label for=\"sk-estimator-id-1\" class=\"sk-toggleable__label sk-toggleable__label-arrow\">GridSearchCV</label><div class=\"sk-toggleable__content\"><pre>GridSearchCV(cv=5, estimator=LogisticRegression(),\n",
              "             param_grid={&#x27;C&#x27;: [0.1, 1, 10],\n",
              "                         &#x27;max_iter&#x27;: [50, 100, 150, 200, 500, 1000],\n",
              "                         &#x27;solver&#x27;: [&#x27;liblinear&#x27;, &#x27;saga&#x27;]},\n",
              "             scoring=&#x27;accuracy&#x27;)</pre></div></div></div><div class=\"sk-parallel\"><div class=\"sk-parallel-item\"><div class=\"sk-item\"><div class=\"sk-label-container\"><div class=\"sk-label sk-toggleable\"><input class=\"sk-toggleable__control sk-hidden--visually\" id=\"sk-estimator-id-2\" type=\"checkbox\" ><label for=\"sk-estimator-id-2\" class=\"sk-toggleable__label sk-toggleable__label-arrow\">estimator: LogisticRegression</label><div class=\"sk-toggleable__content\"><pre>LogisticRegression()</pre></div></div></div><div class=\"sk-serial\"><div class=\"sk-item\"><div class=\"sk-estimator sk-toggleable\"><input class=\"sk-toggleable__control sk-hidden--visually\" id=\"sk-estimator-id-3\" type=\"checkbox\" ><label for=\"sk-estimator-id-3\" class=\"sk-toggleable__label sk-toggleable__label-arrow\">LogisticRegression</label><div class=\"sk-toggleable__content\"><pre>LogisticRegression()</pre></div></div></div></div></div></div></div></div></div></div>"
            ],
            "text/plain": [
              "GridSearchCV(cv=5, estimator=LogisticRegression(),\n",
              "             param_grid={'C': [0.1, 1, 10],\n",
              "                         'max_iter': [50, 100, 150, 200, 500, 1000],\n",
              "                         'solver': ['liblinear', 'saga']},\n",
              "             scoring='accuracy')"
            ]
          },
          "execution_count": 21,
          "metadata": {},
          "output_type": "execute_result"
        }
      ],
      "source": [
        "from sklearn.linear_model import LogisticRegression\n",
        "\n",
        "param_grid_log_reg = {\n",
        "    'max_iter': [50,100,150,200, 500, 1000],\n",
        "    'solver': ['liblinear', 'saga'],\n",
        "    'C': [0.1, 1, 10]\n",
        "}\n",
        "\n",
        "log_reg = LogisticRegression()\n",
        "grid_search_log_reg = GridSearchCV(log_reg, param_grid_log_reg, cv=5, scoring='accuracy')\n",
        "grid_search_log_reg.fit(X_scaled, y)\n",
        "\n"
      ]
    },
    {
      "cell_type": "code",
      "execution_count": null,
      "id": "ffe40ef3",
      "metadata": {
        "execution": {
          "iopub.execute_input": "2024-08-06T01:07:30.542307Z",
          "iopub.status.busy": "2024-08-06T01:07:30.542024Z",
          "iopub.status.idle": "2024-08-06T01:07:30.546357Z",
          "shell.execute_reply": "2024-08-06T01:07:30.545544Z"
        },
        "papermill": {
          "duration": 0.022037,
          "end_time": "2024-08-06T01:07:30.548419",
          "exception": false,
          "start_time": "2024-08-06T01:07:30.526382",
          "status": "completed"
        },
        "tags": [],
        "id": "ffe40ef3",
        "outputId": "88936281-11e9-4d81-8efa-4f871cd5a132"
      },
      "outputs": [
        {
          "name": "stdout",
          "output_type": "stream",
          "text": [
            "Best parameters for Logistic Regression: {'C': 0.1, 'max_iter': 50, 'solver': 'saga'}\n",
            "Best score for Logistic Regression: 0.7979913376435881\n"
          ]
        }
      ],
      "source": [
        "print(\"Best parameters for Logistic Regression:\", grid_search_log_reg.best_params_)\n",
        "print(\"Best score for Logistic Regression:\", grid_search_log_reg.best_score_)"
      ]
    },
    {
      "cell_type": "code",
      "execution_count": null,
      "id": "ae8a3aac",
      "metadata": {
        "execution": {
          "iopub.execute_input": "2024-08-06T01:07:30.579175Z",
          "iopub.status.busy": "2024-08-06T01:07:30.578898Z",
          "iopub.status.idle": "2024-08-06T01:07:30.992720Z",
          "shell.execute_reply": "2024-08-06T01:07:30.991804Z"
        },
        "papermill": {
          "duration": 0.431523,
          "end_time": "2024-08-06T01:07:30.994985",
          "exception": false,
          "start_time": "2024-08-06T01:07:30.563462",
          "status": "completed"
        },
        "tags": [],
        "id": "ae8a3aac",
        "outputId": "4ec5c933-6f54-4f9f-a963-427fb747463a"
      },
      "outputs": [
        {
          "data": {
            "text/html": [
              "<style>#sk-container-id-2 {color: black;background-color: white;}#sk-container-id-2 pre{padding: 0;}#sk-container-id-2 div.sk-toggleable {background-color: white;}#sk-container-id-2 label.sk-toggleable__label {cursor: pointer;display: block;width: 100%;margin-bottom: 0;padding: 0.3em;box-sizing: border-box;text-align: center;}#sk-container-id-2 label.sk-toggleable__label-arrow:before {content: \"▸\";float: left;margin-right: 0.25em;color: #696969;}#sk-container-id-2 label.sk-toggleable__label-arrow:hover:before {color: black;}#sk-container-id-2 div.sk-estimator:hover label.sk-toggleable__label-arrow:before {color: black;}#sk-container-id-2 div.sk-toggleable__content {max-height: 0;max-width: 0;overflow: hidden;text-align: left;background-color: #f0f8ff;}#sk-container-id-2 div.sk-toggleable__content pre {margin: 0.2em;color: black;border-radius: 0.25em;background-color: #f0f8ff;}#sk-container-id-2 input.sk-toggleable__control:checked~div.sk-toggleable__content {max-height: 200px;max-width: 100%;overflow: auto;}#sk-container-id-2 input.sk-toggleable__control:checked~label.sk-toggleable__label-arrow:before {content: \"▾\";}#sk-container-id-2 div.sk-estimator input.sk-toggleable__control:checked~label.sk-toggleable__label {background-color: #d4ebff;}#sk-container-id-2 div.sk-label input.sk-toggleable__control:checked~label.sk-toggleable__label {background-color: #d4ebff;}#sk-container-id-2 input.sk-hidden--visually {border: 0;clip: rect(1px 1px 1px 1px);clip: rect(1px, 1px, 1px, 1px);height: 1px;margin: -1px;overflow: hidden;padding: 0;position: absolute;width: 1px;}#sk-container-id-2 div.sk-estimator {font-family: monospace;background-color: #f0f8ff;border: 1px dotted black;border-radius: 0.25em;box-sizing: border-box;margin-bottom: 0.5em;}#sk-container-id-2 div.sk-estimator:hover {background-color: #d4ebff;}#sk-container-id-2 div.sk-parallel-item::after {content: \"\";width: 100%;border-bottom: 1px solid gray;flex-grow: 1;}#sk-container-id-2 div.sk-label:hover label.sk-toggleable__label {background-color: #d4ebff;}#sk-container-id-2 div.sk-serial::before {content: \"\";position: absolute;border-left: 1px solid gray;box-sizing: border-box;top: 0;bottom: 0;left: 50%;z-index: 0;}#sk-container-id-2 div.sk-serial {display: flex;flex-direction: column;align-items: center;background-color: white;padding-right: 0.2em;padding-left: 0.2em;position: relative;}#sk-container-id-2 div.sk-item {position: relative;z-index: 1;}#sk-container-id-2 div.sk-parallel {display: flex;align-items: stretch;justify-content: center;background-color: white;position: relative;}#sk-container-id-2 div.sk-item::before, #sk-container-id-2 div.sk-parallel-item::before {content: \"\";position: absolute;border-left: 1px solid gray;box-sizing: border-box;top: 0;bottom: 0;left: 50%;z-index: -1;}#sk-container-id-2 div.sk-parallel-item {display: flex;flex-direction: column;z-index: 1;position: relative;background-color: white;}#sk-container-id-2 div.sk-parallel-item:first-child::after {align-self: flex-end;width: 50%;}#sk-container-id-2 div.sk-parallel-item:last-child::after {align-self: flex-start;width: 50%;}#sk-container-id-2 div.sk-parallel-item:only-child::after {width: 0;}#sk-container-id-2 div.sk-dashed-wrapped {border: 1px dashed gray;margin: 0 0.4em 0.5em 0.4em;box-sizing: border-box;padding-bottom: 0.4em;background-color: white;}#sk-container-id-2 div.sk-label label {font-family: monospace;font-weight: bold;display: inline-block;line-height: 1.2em;}#sk-container-id-2 div.sk-label-container {text-align: center;}#sk-container-id-2 div.sk-container {/* jupyter's `normalize.less` sets `[hidden] { display: none; }` but bootstrap.min.css set `[hidden] { display: none !important; }` so we also need the `!important` here to be able to override the default hidden behavior on the sphinx rendered scikit-learn.org. See: https://github.com/scikit-learn/scikit-learn/issues/21755 */display: inline-block !important;position: relative;}#sk-container-id-2 div.sk-text-repr-fallback {display: none;}</style><div id=\"sk-container-id-2\" class=\"sk-top-container\"><div class=\"sk-text-repr-fallback\"><pre>RandomForestClassifier()</pre><b>In a Jupyter environment, please rerun this cell to show the HTML representation or trust the notebook. <br />On GitHub, the HTML representation is unable to render, please try loading this page with nbviewer.org.</b></div><div class=\"sk-container\" hidden><div class=\"sk-item\"><div class=\"sk-estimator sk-toggleable\"><input class=\"sk-toggleable__control sk-hidden--visually\" id=\"sk-estimator-id-4\" type=\"checkbox\" checked><label for=\"sk-estimator-id-4\" class=\"sk-toggleable__label sk-toggleable__label-arrow\">RandomForestClassifier</label><div class=\"sk-toggleable__content\"><pre>RandomForestClassifier()</pre></div></div></div></div></div>"
            ],
            "text/plain": [
              "RandomForestClassifier()"
            ]
          },
          "execution_count": 23,
          "metadata": {},
          "output_type": "execute_result"
        }
      ],
      "source": [
        "from sklearn.ensemble import RandomForestClassifier\n",
        "\n",
        "random_forest = RandomForestClassifier()\n",
        "\n",
        "random_forest.fit(X_scaled, y)"
      ]
    },
    {
      "cell_type": "code",
      "execution_count": null,
      "id": "1bc524eb",
      "metadata": {
        "execution": {
          "iopub.execute_input": "2024-08-06T01:07:31.027815Z",
          "iopub.status.busy": "2024-08-06T01:07:31.027513Z",
          "iopub.status.idle": "2024-08-06T01:07:31.413950Z",
          "shell.execute_reply": "2024-08-06T01:07:31.413171Z"
        },
        "papermill": {
          "duration": 0.405255,
          "end_time": "2024-08-06T01:07:31.416127",
          "exception": false,
          "start_time": "2024-08-06T01:07:31.010872",
          "status": "completed"
        },
        "tags": [],
        "id": "1bc524eb",
        "outputId": "072527ba-7a2b-4b4c-fe6c-d9a8dd5519b8"
      },
      "outputs": [
        {
          "data": {
            "text/html": [
              "<style>#sk-container-id-3 {color: black;background-color: white;}#sk-container-id-3 pre{padding: 0;}#sk-container-id-3 div.sk-toggleable {background-color: white;}#sk-container-id-3 label.sk-toggleable__label {cursor: pointer;display: block;width: 100%;margin-bottom: 0;padding: 0.3em;box-sizing: border-box;text-align: center;}#sk-container-id-3 label.sk-toggleable__label-arrow:before {content: \"▸\";float: left;margin-right: 0.25em;color: #696969;}#sk-container-id-3 label.sk-toggleable__label-arrow:hover:before {color: black;}#sk-container-id-3 div.sk-estimator:hover label.sk-toggleable__label-arrow:before {color: black;}#sk-container-id-3 div.sk-toggleable__content {max-height: 0;max-width: 0;overflow: hidden;text-align: left;background-color: #f0f8ff;}#sk-container-id-3 div.sk-toggleable__content pre {margin: 0.2em;color: black;border-radius: 0.25em;background-color: #f0f8ff;}#sk-container-id-3 input.sk-toggleable__control:checked~div.sk-toggleable__content {max-height: 200px;max-width: 100%;overflow: auto;}#sk-container-id-3 input.sk-toggleable__control:checked~label.sk-toggleable__label-arrow:before {content: \"▾\";}#sk-container-id-3 div.sk-estimator input.sk-toggleable__control:checked~label.sk-toggleable__label {background-color: #d4ebff;}#sk-container-id-3 div.sk-label input.sk-toggleable__control:checked~label.sk-toggleable__label {background-color: #d4ebff;}#sk-container-id-3 input.sk-hidden--visually {border: 0;clip: rect(1px 1px 1px 1px);clip: rect(1px, 1px, 1px, 1px);height: 1px;margin: -1px;overflow: hidden;padding: 0;position: absolute;width: 1px;}#sk-container-id-3 div.sk-estimator {font-family: monospace;background-color: #f0f8ff;border: 1px dotted black;border-radius: 0.25em;box-sizing: border-box;margin-bottom: 0.5em;}#sk-container-id-3 div.sk-estimator:hover {background-color: #d4ebff;}#sk-container-id-3 div.sk-parallel-item::after {content: \"\";width: 100%;border-bottom: 1px solid gray;flex-grow: 1;}#sk-container-id-3 div.sk-label:hover label.sk-toggleable__label {background-color: #d4ebff;}#sk-container-id-3 div.sk-serial::before {content: \"\";position: absolute;border-left: 1px solid gray;box-sizing: border-box;top: 0;bottom: 0;left: 50%;z-index: 0;}#sk-container-id-3 div.sk-serial {display: flex;flex-direction: column;align-items: center;background-color: white;padding-right: 0.2em;padding-left: 0.2em;position: relative;}#sk-container-id-3 div.sk-item {position: relative;z-index: 1;}#sk-container-id-3 div.sk-parallel {display: flex;align-items: stretch;justify-content: center;background-color: white;position: relative;}#sk-container-id-3 div.sk-item::before, #sk-container-id-3 div.sk-parallel-item::before {content: \"\";position: absolute;border-left: 1px solid gray;box-sizing: border-box;top: 0;bottom: 0;left: 50%;z-index: -1;}#sk-container-id-3 div.sk-parallel-item {display: flex;flex-direction: column;z-index: 1;position: relative;background-color: white;}#sk-container-id-3 div.sk-parallel-item:first-child::after {align-self: flex-end;width: 50%;}#sk-container-id-3 div.sk-parallel-item:last-child::after {align-self: flex-start;width: 50%;}#sk-container-id-3 div.sk-parallel-item:only-child::after {width: 0;}#sk-container-id-3 div.sk-dashed-wrapped {border: 1px dashed gray;margin: 0 0.4em 0.5em 0.4em;box-sizing: border-box;padding-bottom: 0.4em;background-color: white;}#sk-container-id-3 div.sk-label label {font-family: monospace;font-weight: bold;display: inline-block;line-height: 1.2em;}#sk-container-id-3 div.sk-label-container {text-align: center;}#sk-container-id-3 div.sk-container {/* jupyter's `normalize.less` sets `[hidden] { display: none; }` but bootstrap.min.css set `[hidden] { display: none !important; }` so we also need the `!important` here to be able to override the default hidden behavior on the sphinx rendered scikit-learn.org. See: https://github.com/scikit-learn/scikit-learn/issues/21755 */display: inline-block !important;position: relative;}#sk-container-id-3 div.sk-text-repr-fallback {display: none;}</style><div id=\"sk-container-id-3\" class=\"sk-top-container\"><div class=\"sk-text-repr-fallback\"><pre>XGBClassifier(base_score=None, booster=None, callbacks=None,\n",
              "              colsample_bylevel=None, colsample_bynode=None,\n",
              "              colsample_bytree=None, device=None, early_stopping_rounds=None,\n",
              "              enable_categorical=False, eval_metric=None, feature_types=None,\n",
              "              gamma=None, grow_policy=None, importance_type=None,\n",
              "              interaction_constraints=None, learning_rate=None, max_bin=None,\n",
              "              max_cat_threshold=None, max_cat_to_onehot=None,\n",
              "              max_delta_step=None, max_depth=None, max_leaves=None,\n",
              "              min_child_weight=None, missing=nan, monotone_constraints=None,\n",
              "              multi_strategy=None, n_estimators=None, n_jobs=None,\n",
              "              num_parallel_tree=None, random_state=None, ...)</pre><b>In a Jupyter environment, please rerun this cell to show the HTML representation or trust the notebook. <br />On GitHub, the HTML representation is unable to render, please try loading this page with nbviewer.org.</b></div><div class=\"sk-container\" hidden><div class=\"sk-item\"><div class=\"sk-estimator sk-toggleable\"><input class=\"sk-toggleable__control sk-hidden--visually\" id=\"sk-estimator-id-5\" type=\"checkbox\" checked><label for=\"sk-estimator-id-5\" class=\"sk-toggleable__label sk-toggleable__label-arrow\">XGBClassifier</label><div class=\"sk-toggleable__content\"><pre>XGBClassifier(base_score=None, booster=None, callbacks=None,\n",
              "              colsample_bylevel=None, colsample_bynode=None,\n",
              "              colsample_bytree=None, device=None, early_stopping_rounds=None,\n",
              "              enable_categorical=False, eval_metric=None, feature_types=None,\n",
              "              gamma=None, grow_policy=None, importance_type=None,\n",
              "              interaction_constraints=None, learning_rate=None, max_bin=None,\n",
              "              max_cat_threshold=None, max_cat_to_onehot=None,\n",
              "              max_delta_step=None, max_depth=None, max_leaves=None,\n",
              "              min_child_weight=None, missing=nan, monotone_constraints=None,\n",
              "              multi_strategy=None, n_estimators=None, n_jobs=None,\n",
              "              num_parallel_tree=None, random_state=None, ...)</pre></div></div></div></div></div>"
            ],
            "text/plain": [
              "XGBClassifier(base_score=None, booster=None, callbacks=None,\n",
              "              colsample_bylevel=None, colsample_bynode=None,\n",
              "              colsample_bytree=None, device=None, early_stopping_rounds=None,\n",
              "              enable_categorical=False, eval_metric=None, feature_types=None,\n",
              "              gamma=None, grow_policy=None, importance_type=None,\n",
              "              interaction_constraints=None, learning_rate=None, max_bin=None,\n",
              "              max_cat_threshold=None, max_cat_to_onehot=None,\n",
              "              max_delta_step=None, max_depth=None, max_leaves=None,\n",
              "              min_child_weight=None, missing=nan, monotone_constraints=None,\n",
              "              multi_strategy=None, n_estimators=None, n_jobs=None,\n",
              "              num_parallel_tree=None, random_state=None, ...)"
            ]
          },
          "execution_count": 24,
          "metadata": {},
          "output_type": "execute_result"
        }
      ],
      "source": [
        "from xgboost import XGBClassifier\n",
        "\n",
        "xgboost = XGBClassifier()\n",
        "\n",
        "xgboost.fit(X_scaled, y)"
      ]
    },
    {
      "cell_type": "markdown",
      "id": "466d64f7",
      "metadata": {
        "papermill": {
          "duration": 0.016162,
          "end_time": "2024-08-06T01:07:31.448791",
          "exception": false,
          "start_time": "2024-08-06T01:07:31.432629",
          "status": "completed"
        },
        "tags": [],
        "id": "466d64f7"
      },
      "source": [
        "# testing the three models"
      ]
    },
    {
      "cell_type": "code",
      "execution_count": null,
      "id": "455fb55e",
      "metadata": {
        "execution": {
          "iopub.execute_input": "2024-08-06T01:07:31.481458Z",
          "iopub.status.busy": "2024-08-06T01:07:31.481161Z",
          "iopub.status.idle": "2024-08-06T01:07:31.499325Z",
          "shell.execute_reply": "2024-08-06T01:07:31.498665Z"
        },
        "papermill": {
          "duration": 0.036397,
          "end_time": "2024-08-06T01:07:31.501371",
          "exception": false,
          "start_time": "2024-08-06T01:07:31.464974",
          "status": "completed"
        },
        "tags": [],
        "id": "455fb55e"
      },
      "outputs": [],
      "source": [
        "y_pred_log_reg = grid_search_log_reg.best_estimator_.predict(df_test_scaled)\n",
        "y_pred_rf = random_forest.predict(df_test_scaled)\n",
        "y_pred_xgb = xgboost.predict(df_test_scaled)"
      ]
    },
    {
      "cell_type": "code",
      "execution_count": null,
      "id": "609548c2",
      "metadata": {
        "execution": {
          "iopub.execute_input": "2024-08-06T01:07:31.534234Z",
          "iopub.status.busy": "2024-08-06T01:07:31.533969Z",
          "iopub.status.idle": "2024-08-06T01:07:31.538565Z",
          "shell.execute_reply": "2024-08-06T01:07:31.537749Z"
        },
        "papermill": {
          "duration": 0.022267,
          "end_time": "2024-08-06T01:07:31.540480",
          "exception": false,
          "start_time": "2024-08-06T01:07:31.518213",
          "status": "completed"
        },
        "tags": [],
        "id": "609548c2"
      },
      "outputs": [],
      "source": [
        "df_target.drop(columns='PassengerId' , inplace=True)"
      ]
    },
    {
      "cell_type": "code",
      "execution_count": null,
      "id": "6f0eab94",
      "metadata": {
        "execution": {
          "iopub.execute_input": "2024-08-06T01:07:31.571954Z",
          "iopub.status.busy": "2024-08-06T01:07:31.571509Z",
          "iopub.status.idle": "2024-08-06T01:07:31.589174Z",
          "shell.execute_reply": "2024-08-06T01:07:31.588076Z"
        },
        "papermill": {
          "duration": 0.035638,
          "end_time": "2024-08-06T01:07:31.591193",
          "exception": false,
          "start_time": "2024-08-06T01:07:31.555555",
          "status": "completed"
        },
        "tags": [],
        "id": "6f0eab94",
        "outputId": "897916f5-7133-4a80-fc9f-c39df928dea8"
      },
      "outputs": [
        {
          "name": "stdout",
          "output_type": "stream",
          "text": [
            "                 Model  Accuracy\n",
            "0  Logistic Regression  0.952153\n",
            "1        Random Forest  0.820574\n",
            "2              XGBoost  0.854067\n"
          ]
        }
      ],
      "source": [
        "results = {\n",
        "    'Model': ['Logistic Regression', 'Random Forest', 'XGBoost'],\n",
        "    'Accuracy': [\n",
        "        accuracy_score(df_target, y_pred_log_reg),\n",
        "        accuracy_score(df_target, y_pred_rf),\n",
        "        accuracy_score(df_target, y_pred_xgb)\n",
        "    ],\n",
        "\n",
        "}\n",
        "\n",
        "results_df = pd.DataFrame(results)\n",
        "\n",
        "# Print the DataFrame\n",
        "print(results_df)"
      ]
    },
    {
      "cell_type": "code",
      "execution_count": null,
      "id": "fc4362e1",
      "metadata": {
        "execution": {
          "iopub.execute_input": "2024-08-06T01:07:31.624072Z",
          "iopub.status.busy": "2024-08-06T01:07:31.623594Z",
          "iopub.status.idle": "2024-08-06T01:07:31.634061Z",
          "shell.execute_reply": "2024-08-06T01:07:31.633277Z"
        },
        "papermill": {
          "duration": 0.028783,
          "end_time": "2024-08-06T01:07:31.635983",
          "exception": false,
          "start_time": "2024-08-06T01:07:31.607200",
          "status": "completed"
        },
        "tags": [],
        "id": "fc4362e1",
        "outputId": "113588c9-39c9-43b6-f6cb-aacb2615a3b5"
      },
      "outputs": [
        {
          "data": {
            "text/html": [
              "<div>\n",
              "<style scoped>\n",
              "    .dataframe tbody tr th:only-of-type {\n",
              "        vertical-align: middle;\n",
              "    }\n",
              "\n",
              "    .dataframe tbody tr th {\n",
              "        vertical-align: top;\n",
              "    }\n",
              "\n",
              "    .dataframe thead th {\n",
              "        text-align: right;\n",
              "    }\n",
              "</style>\n",
              "<table border=\"1\" class=\"dataframe\">\n",
              "  <thead>\n",
              "    <tr style=\"text-align: right;\">\n",
              "      <th></th>\n",
              "      <th>Model</th>\n",
              "      <th>Accuracy</th>\n",
              "    </tr>\n",
              "  </thead>\n",
              "  <tbody>\n",
              "    <tr>\n",
              "      <th>0</th>\n",
              "      <td>Logistic Regression</td>\n",
              "      <td>0.952153</td>\n",
              "    </tr>\n",
              "    <tr>\n",
              "      <th>1</th>\n",
              "      <td>Random Forest</td>\n",
              "      <td>0.820574</td>\n",
              "    </tr>\n",
              "    <tr>\n",
              "      <th>2</th>\n",
              "      <td>XGBoost</td>\n",
              "      <td>0.854067</td>\n",
              "    </tr>\n",
              "  </tbody>\n",
              "</table>\n",
              "</div>"
            ],
            "text/plain": [
              "                 Model  Accuracy\n",
              "0  Logistic Regression  0.952153\n",
              "1        Random Forest  0.820574\n",
              "2              XGBoost  0.854067"
            ]
          },
          "execution_count": 28,
          "metadata": {},
          "output_type": "execute_result"
        }
      ],
      "source": [
        "results_df"
      ]
    },
    {
      "cell_type": "code",
      "execution_count": null,
      "id": "5d3a6540",
      "metadata": {
        "execution": {
          "iopub.execute_input": "2024-08-06T01:07:31.668551Z",
          "iopub.status.busy": "2024-08-06T01:07:31.668036Z",
          "iopub.status.idle": "2024-08-06T01:07:31.700485Z",
          "shell.execute_reply": "2024-08-06T01:07:31.699511Z"
        },
        "papermill": {
          "duration": 0.050713,
          "end_time": "2024-08-06T01:07:31.702458",
          "exception": false,
          "start_time": "2024-08-06T01:07:31.651745",
          "status": "completed"
        },
        "tags": [],
        "id": "5d3a6540",
        "outputId": "11c17717-a6ab-411b-a751-96cd7a7c163a"
      },
      "outputs": [
        {
          "name": "stdout",
          "output_type": "stream",
          "text": [
            "the classification report of logistic regression\n",
            "{'0': {'precision': 0.948905109489051, 'recall': 0.9774436090225563, 'f1-score': 0.9629629629629628, 'support': 266}, '1': {'precision': 0.9583333333333334, 'recall': 0.9078947368421053, 'f1-score': 0.9324324324324325, 'support': 152}, 'accuracy': 0.9521531100478469, 'macro avg': {'precision': 0.9536192214111923, 'recall': 0.9426691729323309, 'f1-score': 0.9476976976976976, 'support': 418}, 'weighted avg': {'precision': 0.9523335545233356, 'recall': 0.9521531100478469, 'f1-score': 0.9518609518609518, 'support': 418}}\n",
            "-------------------------------------------------------------------\n",
            "the classification report of random forests\n",
            "{'0': {'precision': 0.8422939068100358, 'recall': 0.8834586466165414, 'f1-score': 0.8623853211009174, 'support': 266}, '1': {'precision': 0.7769784172661871, 'recall': 0.7105263157894737, 'f1-score': 0.7422680412371134, 'support': 152}, 'accuracy': 0.8205741626794258, 'macro avg': {'precision': 0.8096361620381114, 'recall': 0.7969924812030076, 'f1-score': 0.8023266811690154, 'support': 418}, 'weighted avg': {'precision': 0.8185428197031817, 'recall': 0.8205741626794258, 'f1-score': 0.8187063102413523, 'support': 418}}\n",
            "-------------------------------------------------------------------\n",
            "the classification report of xgboost\n",
            "{'0': {'precision': 0.8647686832740213, 'recall': 0.9135338345864662, 'f1-score': 0.8884826325411335, 'support': 266}, '1': {'precision': 0.8321167883211679, 'recall': 0.75, 'f1-score': 0.7889273356401383, 'support': 152}, 'accuracy': 0.854066985645933, 'macro avg': {'precision': 0.8484427357975945, 'recall': 0.8317669172932332, 'f1-score': 0.8387049840906359, 'support': 418}, 'weighted avg': {'precision': 0.8528952669275291, 'recall': 0.854066985645933, 'f1-score': 0.852280706395317, 'support': 418}}\n"
          ]
        }
      ],
      "source": [
        "print('the classification report of logistic regression')\n",
        "print(classification_report(df_target, y_pred_log_reg, output_dict=True))\n",
        "print('-------------------------------------------------------------------')\n",
        "print('the classification report of random forests')\n",
        "print(classification_report(df_target, y_pred_rf, output_dict=True))\n",
        "print('-------------------------------------------------------------------')\n",
        "print('the classification report of xgboost')\n",
        "print(classification_report(df_target, y_pred_xgb, output_dict=True))\n",
        ""
      ]
    },
    {
      "cell_type": "code",
      "execution_count": null,
      "id": "5fc53ee9",
      "metadata": {
        "execution": {
          "iopub.execute_input": "2024-08-06T01:07:31.734724Z",
          "iopub.status.busy": "2024-08-06T01:07:31.734271Z",
          "iopub.status.idle": "2024-08-06T01:07:31.778777Z",
          "shell.execute_reply": "2024-08-06T01:07:31.777778Z"
        },
        "papermill": {
          "duration": 0.062635,
          "end_time": "2024-08-06T01:07:31.780674",
          "exception": false,
          "start_time": "2024-08-06T01:07:31.718039",
          "status": "completed"
        },
        "tags": [],
        "id": "5fc53ee9",
        "outputId": "b4d2239a-b4b9-4f1b-86c5-a1be5a1f192e"
      },
      "outputs": [
        {
          "name": "stdout",
          "output_type": "stream",
          "text": [
            "                 Model  Accuracy  Macro avg F1-score  Weighted avg F1-score\n",
            "0  Logistic Regression  0.952153            0.947698               0.951861\n",
            "1        Random Forest  0.820574            0.802327               0.818706\n",
            "2              XGBoost  0.854067            0.838705               0.852281\n"
          ]
        }
      ],
      "source": [
        "def extract_simple_metrics(report):\n",
        "    metrics = {\n",
        "        'Accuracy': report.get('accuracy', 'N/A'),\n",
        "        'Macro avg F1-score': report.get('macro avg', {}).get('f1-score', 'N/A'),\n",
        "        'Weighted avg F1-score': report.get('weighted avg', {}).get('f1-score', 'N/A')\n",
        "    }\n",
        "    return metrics\n",
        "\n",
        "# Compute classification reports\n",
        "report_log_reg = classification_report(df_target, y_pred_log_reg, output_dict=True)\n",
        "report_rf = classification_report(df_target, y_pred_rf, output_dict=True)\n",
        "report_xgb = classification_report(df_target, y_pred_xgb, output_dict=True)\n",
        "\n",
        "# Extract metrics for each model\n",
        "log_reg_metrics = extract_simple_metrics(report_log_reg)\n",
        "rf_metrics = extract_simple_metrics(report_rf)\n",
        "xgb_metrics = extract_simple_metrics(report_xgb)\n",
        "\n",
        "# Prepare results for DataFrame\n",
        "results = {\n",
        "    'Model': ['Logistic Regression', 'Random Forest', 'XGBoost'],\n",
        "    'Accuracy': [\n",
        "        accuracy_score(df_target, y_pred_log_reg),\n",
        "        accuracy_score(df_target, y_pred_rf),\n",
        "        accuracy_score(df_target, y_pred_xgb)\n",
        "    ],\n",
        "    'Macro avg F1-score': [\n",
        "        log_reg_metrics['Macro avg F1-score'],\n",
        "        rf_metrics['Macro avg F1-score'],\n",
        "        xgb_metrics['Macro avg F1-score']\n",
        "    ],\n",
        "    'Weighted avg F1-score': [\n",
        "        log_reg_metrics['Weighted avg F1-score'],\n",
        "        rf_metrics['Weighted avg F1-score'],\n",
        "        xgb_metrics['Weighted avg F1-score']\n",
        "    ]\n",
        "}\n",
        "\n",
        "# Convert to DataFrame\n",
        "results_df = pd.DataFrame(results)\n",
        "\n",
        "# Print the DataFrame\n",
        "print(results_df)"
      ]
    },
    {
      "cell_type": "code",
      "execution_count": null,
      "id": "4667a461",
      "metadata": {
        "execution": {
          "iopub.execute_input": "2024-08-06T01:07:31.813420Z",
          "iopub.status.busy": "2024-08-06T01:07:31.812971Z",
          "iopub.status.idle": "2024-08-06T01:07:31.821703Z",
          "shell.execute_reply": "2024-08-06T01:07:31.820972Z"
        },
        "papermill": {
          "duration": 0.026806,
          "end_time": "2024-08-06T01:07:31.823485",
          "exception": false,
          "start_time": "2024-08-06T01:07:31.796679",
          "status": "completed"
        },
        "tags": [],
        "id": "4667a461",
        "outputId": "73fc24d6-c2be-4392-8278-204e07bbab66"
      },
      "outputs": [
        {
          "data": {
            "text/html": [
              "<div>\n",
              "<style scoped>\n",
              "    .dataframe tbody tr th:only-of-type {\n",
              "        vertical-align: middle;\n",
              "    }\n",
              "\n",
              "    .dataframe tbody tr th {\n",
              "        vertical-align: top;\n",
              "    }\n",
              "\n",
              "    .dataframe thead th {\n",
              "        text-align: right;\n",
              "    }\n",
              "</style>\n",
              "<table border=\"1\" class=\"dataframe\">\n",
              "  <thead>\n",
              "    <tr style=\"text-align: right;\">\n",
              "      <th></th>\n",
              "      <th>Model</th>\n",
              "      <th>Accuracy</th>\n",
              "      <th>Macro avg F1-score</th>\n",
              "      <th>Weighted avg F1-score</th>\n",
              "    </tr>\n",
              "  </thead>\n",
              "  <tbody>\n",
              "    <tr>\n",
              "      <th>0</th>\n",
              "      <td>Logistic Regression</td>\n",
              "      <td>0.952153</td>\n",
              "      <td>0.947698</td>\n",
              "      <td>0.951861</td>\n",
              "    </tr>\n",
              "    <tr>\n",
              "      <th>1</th>\n",
              "      <td>Random Forest</td>\n",
              "      <td>0.820574</td>\n",
              "      <td>0.802327</td>\n",
              "      <td>0.818706</td>\n",
              "    </tr>\n",
              "    <tr>\n",
              "      <th>2</th>\n",
              "      <td>XGBoost</td>\n",
              "      <td>0.854067</td>\n",
              "      <td>0.838705</td>\n",
              "      <td>0.852281</td>\n",
              "    </tr>\n",
              "  </tbody>\n",
              "</table>\n",
              "</div>"
            ],
            "text/plain": [
              "                 Model  Accuracy  Macro avg F1-score  Weighted avg F1-score\n",
              "0  Logistic Regression  0.952153            0.947698               0.951861\n",
              "1        Random Forest  0.820574            0.802327               0.818706\n",
              "2              XGBoost  0.854067            0.838705               0.852281"
            ]
          },
          "execution_count": 31,
          "metadata": {},
          "output_type": "execute_result"
        }
      ],
      "source": [
        "results_df"
      ]
    },
    {
      "cell_type": "code",
      "execution_count": null,
      "id": "c37b0b76",
      "metadata": {
        "papermill": {
          "duration": 0.015543,
          "end_time": "2024-08-06T01:07:31.855086",
          "exception": false,
          "start_time": "2024-08-06T01:07:31.839543",
          "status": "completed"
        },
        "tags": [],
        "id": "c37b0b76"
      },
      "outputs": [],
      "source": []
    }
  ],
  "metadata": {
    "kaggle": {
      "accelerator": "nvidiaTeslaT4",
      "dataSources": [
        {
          "databundleVersionId": 26502,
          "sourceId": 3136,
          "sourceType": "competition"
        }
      ],
      "dockerImageVersionId": 30746,
      "isGpuEnabled": true,
      "isInternetEnabled": true,
      "language": "python",
      "sourceType": "notebook"
    },
    "kernelspec": {
      "display_name": "Python 3",
      "language": "python",
      "name": "python3"
    },
    "language_info": {
      "codemirror_mode": {
        "name": "ipython",
        "version": 3
      },
      "file_extension": ".py",
      "mimetype": "text/x-python",
      "name": "python",
      "nbconvert_exporter": "python",
      "pygments_lexer": "ipython3",
      "version": "3.10.13"
    },
    "papermill": {
      "default_parameters": {},
      "duration": 11.375526,
      "end_time": "2024-08-06T01:07:32.288379",
      "environment_variables": {},
      "exception": null,
      "input_path": "__notebook__.ipynb",
      "output_path": "__notebook__.ipynb",
      "parameters": {},
      "start_time": "2024-08-06T01:07:20.912853",
      "version": "2.5.0"
    },
    "colab": {
      "provenance": []
    }
  },
  "nbformat": 4,
  "nbformat_minor": 5
}